{
 "cells": [
  {
   "cell_type": "code",
   "execution_count": 1,
   "metadata": {
    "collapsed": true
   },
   "outputs": [],
   "source": [
    "import numpy as np\n",
    "from sklearn.datasets import load_boston\n",
    "from sklearn.linear_model import Ridge\n",
    "from sklearn.model_selection import cross_val_score\n",
    "from sklearn.ensemble import RandomForestRegressor\n",
    "import matplotlib.pyplot as plt"
   ]
  },
  {
   "cell_type": "code",
   "execution_count": 4,
   "metadata": {
    "collapsed": false
   },
   "outputs": [
    {
     "data": {
      "text/plain": [
       "(506, 13)"
      ]
     },
     "execution_count": 4,
     "metadata": {},
     "output_type": "execute_result"
    }
   ],
   "source": [
    "#dataSet\n",
    "X=load_boston().data\n",
    "X.shape"
   ]
  },
  {
   "cell_type": "code",
   "execution_count": 5,
   "metadata": {
    "collapsed": false
   },
   "outputs": [
    {
     "data": {
      "text/plain": [
       "(506,)"
      ]
     },
     "execution_count": 5,
     "metadata": {},
     "output_type": "execute_result"
    }
   ],
   "source": [
    "#labels\n",
    "y=load_boston().target\n",
    "y.shape"
   ]
  },
  {
   "cell_type": "code",
   "execution_count": 6,
   "metadata": {
    "collapsed": false
   },
   "outputs": [
    {
     "data": {
      "text/plain": [
       "[5.1854333510531214,\n",
       " 5.1853769923939295,\n",
       " 5.1853057615792411,\n",
       " 5.1852157523751412,\n",
       " 5.1851020434992714,\n",
       " 5.184958441400318,\n",
       " 5.184777161780552,\n",
       " 5.1845484376551685,\n",
       " 5.1842600408161879,\n",
       " 5.1838967036779131,\n",
       " 5.1834394305664739,\n",
       " 5.1828646930691562,\n",
       " 5.1821435153584821,\n",
       " 5.1812404757875283,\n",
       " 5.1801126851477983,\n",
       " 5.1787088557428334,\n",
       " 5.1769686555822005,\n",
       " 5.1748226542144842,\n",
       " 5.172193311422502,\n",
       " 5.1689976243309816,\n",
       " 5.1651521930917852,\n",
       " 5.1605815068721466,\n",
       " 5.1552300476872279,\n",
       " 5.1490781626793352,\n",
       " 5.1421603735615751,\n",
       " 5.1345828410230983,\n",
       " 5.1265344575969705,\n",
       " 5.1182845257541976,\n",
       " 5.1101607736047674,\n",
       " 5.1025059477650814,\n",
       " 5.0956191410986893,\n",
       " 5.0896963424032284,\n",
       " 5.0847884984765681,\n",
       " 5.0807911075670145,\n",
       " 5.0774682693825586,\n",
       " 5.074502116065732,\n",
       " 5.0715519533864564,\n",
       " 5.0683084874632129,\n",
       " 5.0645347173995221,\n",
       " 5.0600921609861782,\n",
       " 5.0549560626370482,\n",
       " 5.0492252760474639,\n",
       " 5.0431319084766031,\n",
       " 5.037052778357995,\n",
       " 5.0315193769604383,\n",
       " 5.0272164738931604,\n",
       " 5.0249550496332986,\n",
       " 5.0256076746991418,\n",
       " 5.0300069322227099,\n",
       " 5.038827290653515]"
      ]
     },
     "execution_count": 6,
     "metadata": {},
     "output_type": "execute_result"
    }
   ],
   "source": [
    "#ridge regression\n",
    "alphas=np.logspace(start=-3,stop=2,num=50)\n",
    "score_Ridge=[]\n",
    "for alpha in alphas:\n",
    "    ridge=Ridge(alpha=alpha)\n",
    "    test_score=np.sqrt(-1*cross_val_score(estimator=ridge,X=X,y=y,scoring='neg_mean_squared_error',cv=10))\n",
    "    score_Ridge.append(np.mean(test_score))\n",
    "score_Ridge"
   ]
  },
  {
   "cell_type": "code",
   "execution_count": 7,
   "metadata": {
    "collapsed": false
   },
   "outputs": [
    {
     "data": {
      "text/plain": [
       "[4.9859389329977333,\n",
       " 4.0658825884424648,\n",
       " 3.9190103235468796,\n",
       " 4.0101216785065796,\n",
       " 4.084983721779591,\n",
       " 4.1577989158430251]"
      ]
     },
     "execution_count": 7,
     "metadata": {},
     "output_type": "execute_result"
    }
   ],
   "source": [
    "#random forest\n",
    "max_features=[0.1,0.3,0.5,0.7,0.9,0.99]\n",
    "score_RF=[]\n",
    "for max_feature in max_features:\n",
    "    RF=RandomForestRegressor(n_estimators=200,max_features=max_feature)\n",
    "    test_score=np.sqrt(-1*cross_val_score(estimator=RF,X=X,y=y,scoring='neg_mean_squared_error',cv=10))\n",
    "    score_RF.append(np.mean(test_score))\n",
    "score_RF"
   ]
  },
  {
   "cell_type": "code",
   "execution_count": 8,
   "metadata": {
    "collapsed": false
   },
   "outputs": [
    {
     "data": {
      "image/png": "[encoded data removed]",
      "text/plain": [
       "<matplotlib.figure.Figure at 0x18d13301748>"
      ]
     },
     "metadata": {},
     "output_type": "display_data"
    }
   ],
   "source": [
    "#draw pic\n",
    "ax1=plt.subplot(2,1,1)\n",
    "ax2=plt.subplot(2,1,2)\n",
    "\n",
    "ax1.plot(alphas,score_Ridge,label=\"Alpha vs CV Error\")\n",
    "ax1.set_xlabel(\"Alpha\")\n",
    "ax1.set_ylabel(\"CV Error\")\n",
    "\n",
    "#ax1.title(\"\")\n",
    "\n",
    "\n",
    "ax2.plot(max_features,score_RF,label=\"Max_Features vs CV Error\")\n",
    "ax2.set_xlabel(\"Max_Features\")\n",
    "ax2.set_ylabel(\"CV Error\")\n",
    "\n",
    "plt.show()"
   ]
  },
  {
   "cell_type": "code",
   "execution_count": null,
   "metadata": {
    "collapsed": true
   },
   "outputs": [],
   "source": []
  }
 ],
 "metadata": {
  "anaconda-cloud": {},
  "kernelspec": {
   "display_name": "Python [conda root]",
   "language": "python",
   "name": "conda-root-py"
  },
  "language_info": {
   "codemirror_mode": {
    "name": "ipython",
    "version": 3
   },
   "file_extension": ".py",
   "mimetype": "text/x-python",
   "name": "python",
   "nbconvert_exporter": "python",
   "pygments_lexer": "ipython3",
   "version": "3.5.2"
  }
 },
 "nbformat": 4,
 "nbformat_minor": 0
}
